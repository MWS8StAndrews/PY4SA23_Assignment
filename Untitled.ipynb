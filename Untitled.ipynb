{
 "cells": [
  {
   "cell_type": "markdown",
   "id": "9e23b9bc-94b0-49f4-b80d-3a324974c0db",
   "metadata": {},
   "source": [
    "# **Lab Assignment 2 - Morgan Staples**\n",
    "## 180016968\n",
    "## https://github.com/MWS8StAndrews/PY4SA23_Assignment"
   ]
  },
  {
   "cell_type": "markdown",
   "id": "f7c3b143-b1d3-422c-ba2d-78d96d7083cf",
   "metadata": {},
   "source": [
    "# **Python Basics**\n",
    "## **Task 1**\n",
    "### An If...Else statement was created to test whether a number is divisible by 3."
   ]
  },
  {
   "cell_type": "code",
   "execution_count": 7,
   "id": "ebde2c66-d59a-44c8-ac1e-204864818439",
   "metadata": {},
   "outputs": [
    {
     "name": "stdout",
     "output_type": "stream",
     "text": [
      "303 is divisible by three\n"
     ]
    }
   ],
   "source": [
    "x = 303\n",
    "if(x%3==0):\n",
    "    print (str(x) + \" is divisible by three\")\n",
    "else:\n",
    "    print (str(x) + \" is not divisible by three\")"
   ]
  },
  {
   "cell_type": "code",
   "execution_count": null,
   "id": "b5dc995f-1da4-4fe2-8cea-e8a70b11ddec",
   "metadata": {},
   "outputs": [],
   "source": []
  }
 ],
 "metadata": {
  "kernelspec": {
   "display_name": "Python 3 (ipykernel)",
   "language": "python",
   "name": "python3"
  },
  "language_info": {
   "codemirror_mode": {
    "name": "ipython",
    "version": 3
   },
   "file_extension": ".py",
   "mimetype": "text/x-python",
   "name": "python",
   "nbconvert_exporter": "python",
   "pygments_lexer": "ipython3",
   "version": "3.10.9"
  }
 },
 "nbformat": 4,
 "nbformat_minor": 5
}
