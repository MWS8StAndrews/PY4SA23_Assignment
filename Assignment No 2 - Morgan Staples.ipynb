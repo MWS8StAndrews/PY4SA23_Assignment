{
 "cells": [
  {
   "cell_type": "markdown",
   "id": "9e23b9bc-94b0-49f4-b80d-3a324974c0db",
   "metadata": {},
   "source": [
    "# **Lab Assignment 2 - Morgan Staples**\n",
    "## 180016968\n",
    "## https://github.com/MWS8StAndrews/PY4SA23_Assignment"
   ]
  },
  {
   "cell_type": "markdown",
   "id": "f7c3b143-b1d3-422c-ba2d-78d96d7083cf",
   "metadata": {},
   "source": [
    "# **Python Basics**\n",
    "## **Task 1**\n",
    "### An If...Else statement was created to test whether a number is divisible by 3. The number 303 was tested and was found to be divisible by three. The statement \"303 is divisible by three\" was then printed."
   ]
  },
  {
   "cell_type": "code",
   "execution_count": 7,
   "id": "ebde2c66-d59a-44c8-ac1e-204864818439",
   "metadata": {},
   "outputs": [
    {
     "name": "stdout",
     "output_type": "stream",
     "text": [
      "303 is divisible by three\n"
     ]
    }
   ],
   "source": [
    "x = 303\n",
    "if(x%3==0):\n",
    "    print (str(x) + \" is divisible by three\")\n",
    "else:\n",
    "    print (str(x) + \" is not divisible by three\")"
   ]
  },
  {
   "cell_type": "markdown",
   "id": "afc57bc5-eb58-4eed-bd48-1e8b27105755",
   "metadata": {},
   "source": [
    "## **Task 2**\n",
    "### Another If...Else Statement was created that tested if a type of fruit was on a list of acceptable fruit. Mango was tested and since mango is not on the list of acceptable fruit the result \"mango is not acceptable\" was printed."
   ]
  },
  {
   "cell_type": "code",
   "execution_count": 30,
   "id": "d91e598a-c6e4-4d4d-af72-2e072a110681",
   "metadata": {},
   "outputs": [
    {
     "name": "stdout",
     "output_type": "stream",
     "text": [
      "mango is not acceptable\n"
     ]
    }
   ],
   "source": [
    "x = \"mango\"\n",
    "fruitlst = [\"apple\", \"orange\", \"pear\", \"kiwi\", \"strawberry\"]\n",
    "result = fruitlst.count(x)\n",
    "if result > 0:\n",
    "    print (x + \" is acceptable\")\n",
    "else:\n",
    "    print (x + \" is not acceptable\")"
   ]
  },
  {
   "cell_type": "markdown",
   "id": "8991fdee-1db5-41f8-a85b-49749625db71",
   "metadata": {},
   "source": [
    "## **Task 3**\n",
    "### A function was created to calculate the distance between two coordinates using the haversine formula. After the formula was created different coordinates could be imputed to calculate the distance between locations."
   ]
  },
  {
   "cell_type": "code",
   "execution_count": 40,
   "id": "1afb5a61-c1be-4c4c-8d1a-c5843b041144",
   "metadata": {},
   "outputs": [
    {
     "name": "stdout",
     "output_type": "stream",
     "text": [
      "112.23072250319287\n"
     ]
    }
   ],
   "source": [
    "import math\n",
    "from math import sqrt, sin, cos, atan2, radians\n",
    "def haversine(coord1:object, coord2:object):\n",
    "    \n",
    "    lon1, lat1 = coord1\n",
    "    lon2, lat2 = coord2\n",
    "    phi_1 = math.radians(lat1)\n",
    "    phi_2 = math.radians(lat2)\n",
    "    delta_phi = math.radians(lat2 - lat1)\n",
    "    delta_lambda = math.radians(lon2 - lon1)\n",
    "    \n",
    "    a = math.sin(delta_phi / 2.0) ** 2 + math.cos(phi_1) * math.cos(phi_2) * math.sin(delta_lambda / 2.0) ** 2\n",
    "    c = 2 * math.atan2(math.sqrt(a), math.sqrt(1 - a))\n",
    "    R = 6371\n",
    "    return R * c\n",
    "\n",
    "coord1 = 0.96524,52.2213\n",
    "coord2 = -0.10116,51.4567\n",
    "print(haversine(coord1,coord2))"
   ]
  },
  {
   "cell_type": "markdown",
   "id": "6cae244f-0630-420d-8afd-f425d49562f7",
   "metadata": {},
   "source": [
    "# **Pandas and NumPy**\n",
    "## **Question 1**\n",
    "### Using Pandas we can read the portland_park_trees.csv file. Subsets were created that identified the trees that are of the Quercus and Acer genus. The subsets were combined to create a subset that identified trees that belonged to the Quercus or Acer Genus. The len() function was then used to identify the number of rows and therefore trees that belonged to Quercus or Acer. This gave the answer 5675."
   ]
  },
  {
   "cell_type": "code",
   "execution_count": 78,
   "id": "5e97a232-4972-4eb5-8713-215b94ca992d",
   "metadata": {},
   "outputs": [
    {
     "name": "stdout",
     "output_type": "stream",
     "text": [
      "5675\n"
     ]
    }
   ],
   "source": [
    "import pandas as pd\n",
    "\n",
    "trees_df = pd.read_csv(\"data/portland_park_trees.csv\", sep=\",\", header=0, encoding=\"ISO-8859-1\")\n",
    "\n",
    "Quercus_only = trees_df[trees_df[\"Genus\"]==\"Quercus\"]\n",
    "Acer_only = trees_df[trees_df[\"Genus\"]==\"Acer\"]\n",
    "Quercus_and_Acer = Quercus_only + Acer_only\n",
    "\n",
    "print(len(Quercus_and_Acer))"
   ]
  },
  {
   "cell_type": "markdown",
   "id": "95437a40-abcd-4541-9d81-70e716cca8da",
   "metadata": {},
   "source": [
    "## **Question 2**\n",
    "### Using the same data from the previous question subsets were created for trees that belonged to the Quercus genus and have a DBH larger than 50 inches. This process was repeated for the Acer genus and then the two subsets were combined. This gave the answer that there are 124 trees of the Quercus or Acer genus that have a DBH larger than 50 inches."
   ]
  },
  {
   "cell_type": "code",
   "execution_count": 61,
   "id": "c4cd1c83-ae07-4ca0-b370-db2233656529",
   "metadata": {},
   "outputs": [
    {
     "name": "stdout",
     "output_type": "stream",
     "text": [
      "124\n"
     ]
    }
   ],
   "source": [
    "large_Quercus = trees_df[(trees_df[\"Genus\"]==\"Quercus\") & (trees_df[\"DBH\"]>50)]\n",
    "large_Acer = trees_df[(trees_df[\"Genus\"]==\"Acer\") & (trees_df[\"DBH\"]>50)]\n",
    "\n",
    "large_Quercus_and_Acer = large_Quercus + large_Acer\n",
    "\n",
    "print(len(large_Quercus_and_Acer))"
   ]
  },
  {
   "cell_type": "markdown",
   "id": "645adaec-a4de-404e-bf34-4797cf97d307",
   "metadata": {},
   "source": [
    "## **Question 3**\n",
    "### Firstly a subset was created for the Fraxinus genus. Then a formula was created that would calculate the mean for each of the 3 different genus. The results were then published. From the results we can see that Quercus has the highest mean DBH."
   ]
  },
  {
   "cell_type": "code",
   "execution_count": 68,
   "id": "42dcd7e8-133c-48f8-83e3-b9bc5d7459eb",
   "metadata": {},
   "outputs": [
    {
     "name": "stdout",
     "output_type": "stream",
     "text": [
      "23.56823839157492\n",
      "18.419085331846066\n",
      "11.033609693877551\n"
     ]
    }
   ],
   "source": [
    "Fraxinus_only = trees_df[trees_df[\"Genus\"]==\"Fraxinus\"]\n",
    "\n",
    "Quercus_Mean = Quercus_only[\"DBH\"].mean()\n",
    "Acer_Mean = Acer_only[\"DBH\"].mean()\n",
    "Fraxinus_Mean = Fraxinus_only[\"DBH\"].mean()\n",
    "\n",
    "print(Quercus_Mean)\n",
    "print(Acer_Mean)\n",
    "print(Fraxinus_Mean)"
   ]
  },
  {
   "cell_type": "markdown",
   "id": "061a8272-c292-4b1c-84e2-9c801b71d137",
   "metadata": {},
   "source": [
    "## **Question 4**\n",
    "### A value count was used to count the amount of different species that belonged to the Acer genus. The result was then printed, which gave the answer 20."
   ]
  },
  {
   "cell_type": "code",
   "execution_count": 84,
   "id": "f5ef2a57-ccd8-4d24-b7f7-1b27329ccf33",
   "metadata": {},
   "outputs": [
    {
     "name": "stdout",
     "output_type": "stream",
     "text": [
      "20\n"
     ]
    }
   ],
   "source": [
    "Acer_difspecies = Acer_only[\"Genus_spec\"].value_counts().shape[0]\n",
    "print(Acer_difspecies)"
   ]
  },
  {
   "cell_type": "markdown",
   "id": "5d62c6e3-919b-4eb8-872c-195489a71ccb",
   "metadata": {},
   "source": [
    "## **Question 5**\n",
    "### Firstly, pandas was used to read the file \"world_cities.csv\"."
   ]
  },
  {
   "cell_type": "markdown",
   "id": "675c4568-b4a6-4ec8-9073-c6550a0b3b3e",
   "metadata": {},
   "source": [
    "cities_df = pd.read_csv(\"data/world_cities.csv\", sep=\",\", header=0, encoding=\"ISO-8859-1\")"
   ]
  },
  {
   "cell_type": "markdown",
   "id": "640de70a-332a-4d46-8e0f-9945b2a39248",
   "metadata": {},
   "source": [
    "### A new column was created for population in millions. To convert the existing populations into millions the values had to be divided by 1000000."
   ]
  },
  {
   "cell_type": "code",
   "execution_count": 91,
   "id": "4035003e-cbf1-41d3-a9fd-71689c761d93",
   "metadata": {},
   "outputs": [],
   "source": [
    "cities_df[\"pop_M\"] = cities_df[\"pop\"] / 1000000"
   ]
  },
  {
   "cell_type": "markdown",
   "id": "56364f8e-9193-4734-bee0-a6d83283ec55",
   "metadata": {},
   "source": [
    "### The existing population column was then deleted."
   ]
  },
  {
   "cell_type": "code",
   "execution_count": 93,
   "id": "d0b11edf-d4be-4dc9-911b-d22162917a88",
   "metadata": {},
   "outputs": [],
   "source": [
    "del cities_df[\"pop\"]"
   ]
  },
  {
   "cell_type": "markdown",
   "id": "b92513c9-7dac-4195-8673-5279319712c9",
   "metadata": {},
   "source": [
    "### Since my name begins with the letter M, I subsetted the city Mombasa. This result was then printed to identify the country that Mombasa was located in. The answer was Kenya."
   ]
  },
  {
   "cell_type": "code",
   "execution_count": 97,
   "id": "552ef1a3-940d-4b7a-a1aa-8d303f2cc592",
   "metadata": {},
   "outputs": [
    {
     "name": "stdout",
     "output_type": "stream",
     "text": [
      "          city country   lat    lon  capital   pop_M\n",
      "24289  Mombasa   Kenya -4.04  39.66        0  0.8235\n"
     ]
    }
   ],
   "source": [
    "just_Mombasa = cities_df[cities_df[\"city\"]==\"Mombasa\"]\n",
    "print (just_Mombasa)"
   ]
  },
  {
   "cell_type": "markdown",
   "id": "6f28ba79-3c0c-4ba2-b42a-d6069ae6ef0d",
   "metadata": {},
   "source": [
    "### The 5 cities with the largest populations in Kenya were subsetted using sort_values and .head(5). The results were then printed which told us that Nairobi, Mombasa, Nakuru, Eldoret and Kisumu were the 5 cities with the largest populations."
   ]
  },
  {
   "cell_type": "code",
   "execution_count": 103,
   "id": "559692a9-df79-4217-bdbc-0cdc994e0ee9",
   "metadata": {},
   "outputs": [
    {
     "name": "stdout",
     "output_type": "stream",
     "text": [
      "          city country   lat    lon  capital     pop_M\n",
      "25232  Nairobi   Kenya -1.29  36.82        1  2.864667\n",
      "24289  Mombasa   Kenya -4.04  39.66        0  0.823500\n",
      "25270   Nakuru   Kenya -0.28  36.07        0  0.266510\n",
      "10562  Eldoret   Kenya  0.52  35.27        0  0.227818\n",
      "18277   Kisumu   Kenya -0.09  34.75        0  0.220030\n"
     ]
    }
   ],
   "source": [
    "Kenya_cities = cities_df[cities_df[\"country\"]==\"Kenya\"]\n",
    "Kenya_cities_top5 = Kenya_cities.sort_values(\"pop_M\", ascending=False).head(5)\n",
    "print(Kenya_cities_top5)"
   ]
  },
  {
   "cell_type": "markdown",
   "id": "c3b0d6b8-2af0-483c-9ab2-2f4d3655ed1d",
   "metadata": {},
   "source": [
    "# **Python Data Visualisation**\n",
    "## **Graph 1**"
   ]
  },
  {
   "cell_type": "code",
   "execution_count": null,
   "id": "ad8a00b0-886d-4e23-a9b6-4aed0cc7261e",
   "metadata": {},
   "outputs": [],
   "source": []
  }
 ],
 "metadata": {
  "kernelspec": {
   "display_name": "Python 3 (ipykernel)",
   "language": "python",
   "name": "python3"
  },
  "language_info": {
   "codemirror_mode": {
    "name": "ipython",
    "version": 3
   },
   "file_extension": ".py",
   "mimetype": "text/x-python",
   "name": "python",
   "nbconvert_exporter": "python",
   "pygments_lexer": "ipython3",
   "version": "3.10.9"
  }
 },
 "nbformat": 4,
 "nbformat_minor": 5
}
