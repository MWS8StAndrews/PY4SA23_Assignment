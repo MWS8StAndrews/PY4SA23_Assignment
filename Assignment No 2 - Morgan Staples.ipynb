{
 "cells": [
  {
   "cell_type": "markdown",
   "id": "9e23b9bc-94b0-49f4-b80d-3a324974c0db",
   "metadata": {},
   "source": [
    "# **Lab Assignment 2 - Morgan Staples**\n",
    "## 180016968\n",
    "## https://github.com/MWS8StAndrews/PY4SA23_Assignment"
   ]
  },
  {
   "cell_type": "markdown",
   "id": "f7c3b143-b1d3-422c-ba2d-78d96d7083cf",
   "metadata": {},
   "source": [
    "# **Python Basics**\n",
    "## **Task 1**\n",
    "### An If...Else statement was created to test whether a number is divisible by 3. The number 303 was tested and was found to be divisible by three. The statement \"303 is divisible by three\" was then printed."
   ]
  },
  {
   "cell_type": "code",
   "execution_count": 7,
   "id": "ebde2c66-d59a-44c8-ac1e-204864818439",
   "metadata": {},
   "outputs": [
    {
     "name": "stdout",
     "output_type": "stream",
     "text": [
      "303 is divisible by three\n"
     ]
    }
   ],
   "source": [
    "x = 303\n",
    "if(x%3==0):\n",
    "    print (str(x) + \" is divisible by three\")\n",
    "else:\n",
    "    print (str(x) + \" is not divisible by three\")"
   ]
  },
  {
   "cell_type": "markdown",
   "id": "afc57bc5-eb58-4eed-bd48-1e8b27105755",
   "metadata": {},
   "source": [
    "## **Task 2**\n",
    "### Another If...Else Statement was created that tested if a type of fruit was on a list of acceptable fruit. Mango was tested and since mango is not on the list of acceptable fruit the result \"mango is not acceptable\" was printed."
   ]
  },
  {
   "cell_type": "code",
   "execution_count": 30,
   "id": "d91e598a-c6e4-4d4d-af72-2e072a110681",
   "metadata": {},
   "outputs": [
    {
     "name": "stdout",
     "output_type": "stream",
     "text": [
      "mango is not acceptable\n"
     ]
    }
   ],
   "source": [
    "x = \"mango\"\n",
    "fruitlst = [\"apple\", \"orange\", \"pear\", \"kiwi\", \"strawberry\"]\n",
    "result = fruitlst.count(x)\n",
    "if result > 0:\n",
    "    print (x + \" is acceptable\")\n",
    "else:\n",
    "    print (x + \" is not acceptable\")"
   ]
  },
  {
   "cell_type": "markdown",
   "id": "8991fdee-1db5-41f8-a85b-49749625db71",
   "metadata": {},
   "source": [
    "## **Task 3**\n",
    "### A function was created to calculate the distance between two coordinates using the haversine formula. After the formula was created different coordinates could be imputed to calculate the distance between locations."
   ]
  },
  {
   "cell_type": "code",
   "execution_count": 40,
   "id": "1afb5a61-c1be-4c4c-8d1a-c5843b041144",
   "metadata": {},
   "outputs": [
    {
     "name": "stdout",
     "output_type": "stream",
     "text": [
      "112.23072250319287\n"
     ]
    }
   ],
   "source": [
    "import math\n",
    "from math import sqrt, sin, cos, atan2, radians\n",
    "def haversine(coord1:object, coord2:object):\n",
    "    \n",
    "    lon1, lat1 = coord1\n",
    "    lon2, lat2 = coord2\n",
    "    phi_1 = math.radians(lat1)\n",
    "    phi_2 = math.radians(lat2)\n",
    "    delta_phi = math.radians(lat2 - lat1)\n",
    "    delta_lambda = math.radians(lon2 - lon1)\n",
    "    \n",
    "    a = math.sin(delta_phi / 2.0) ** 2 + math.cos(phi_1) * math.cos(phi_2) * math.sin(delta_lambda / 2.0) ** 2\n",
    "    c = 2 * math.atan2(math.sqrt(a), math.sqrt(1 - a))\n",
    "    R = 6371\n",
    "    return R * c\n",
    "\n",
    "coord1 = 0.96524,52.2213\n",
    "coord2 = -0.10116,51.4567\n",
    "print(haversine(coord1,coord2))"
   ]
  },
  {
   "cell_type": "markdown",
   "id": "6cae244f-0630-420d-8afd-f425d49562f7",
   "metadata": {},
   "source": [
    "# **Pandas and NumPy**\n",
    "## **Question 1**"
   ]
  },
  {
   "cell_type": "code",
   "execution_count": null,
   "id": "5e97a232-4972-4eb5-8713-215b94ca992d",
   "metadata": {},
   "outputs": [],
   "source": []
  }
 ],
 "metadata": {
  "kernelspec": {
   "display_name": "Python 3 (ipykernel)",
   "language": "python",
   "name": "python3"
  },
  "language_info": {
   "codemirror_mode": {
    "name": "ipython",
    "version": 3
   },
   "file_extension": ".py",
   "mimetype": "text/x-python",
   "name": "python",
   "nbconvert_exporter": "python",
   "pygments_lexer": "ipython3",
   "version": "3.10.9"
  }
 },
 "nbformat": 4,
 "nbformat_minor": 5
}
