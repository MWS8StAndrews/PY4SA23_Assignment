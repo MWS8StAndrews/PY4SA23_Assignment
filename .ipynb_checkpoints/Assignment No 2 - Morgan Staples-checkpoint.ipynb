{
 "cells": [
  {
   "cell_type": "markdown",
   "id": "9e23b9bc-94b0-49f4-b80d-3a324974c0db",
   "metadata": {},
   "source": [
    "# **Lab Assignment 2 - Morgan Staples**\n",
    "## 180016968\n",
    "## https://github.com/MWS8StAndrews/PY4SA23_Assignment"
   ]
  },
  {
   "cell_type": "markdown",
   "id": "f7c3b143-b1d3-422c-ba2d-78d96d7083cf",
   "metadata": {},
   "source": [
    "# **Python Basics**\n",
    "## **Task 1**\n",
    "### An If...Else statement was created to test whether a number is divisible by 3. The number 303 was tested and was found to be divisible by three. The statement \"303 is divisible by three\" was then printed."
   ]
  },
  {
   "cell_type": "code",
   "execution_count": 7,
   "id": "ebde2c66-d59a-44c8-ac1e-204864818439",
   "metadata": {},
   "outputs": [
    {
     "name": "stdout",
     "output_type": "stream",
     "text": [
      "303 is divisible by three\n"
     ]
    }
   ],
   "source": [
    "x = 303\n",
    "if(x%3==0):\n",
    "    print (str(x) + \" is divisible by three\")\n",
    "else:\n",
    "    print (str(x) + \" is not divisible by three\")"
   ]
  },
  {
   "cell_type": "markdown",
   "id": "afc57bc5-eb58-4eed-bd48-1e8b27105755",
   "metadata": {},
   "source": [
    "## **Task 2**\n",
    "### Another If...Else Statement was created that tested if a type of fruit was on a list of acceptable fruit. Mango was tested and since mango is not on the list of acceptable fruit the result \"mango is not acceptable\" was printed."
   ]
  },
  {
   "cell_type": "code",
   "execution_count": 30,
   "id": "d91e598a-c6e4-4d4d-af72-2e072a110681",
   "metadata": {},
   "outputs": [
    {
     "name": "stdout",
     "output_type": "stream",
     "text": [
      "mango is not acceptable\n"
     ]
    }
   ],
   "source": [
    "x = \"mango\"\n",
    "fruitlst = [\"apple\", \"orange\", \"pear\", \"kiwi\", \"strawberry\"]\n",
    "result = fruitlst.count(x)\n",
    "if result > 0:\n",
    "    print (x + \" is acceptable\")\n",
    "else:\n",
    "    print (x + \" is not acceptable\")"
   ]
  },
  {
   "cell_type": "markdown",
   "id": "8991fdee-1db5-41f8-a85b-49749625db71",
   "metadata": {},
   "source": [
    "## **Task 3**\n",
    "### A function was created to calculate the distance between two coordinates using the haversine formula. After the formula was created different coordinates could be imputed to calculate the distance between locations."
   ]
  },
  {
   "cell_type": "code",
   "execution_count": 40,
   "id": "1afb5a61-c1be-4c4c-8d1a-c5843b041144",
   "metadata": {},
   "outputs": [
    {
     "name": "stdout",
     "output_type": "stream",
     "text": [
      "112.23072250319287\n"
     ]
    }
   ],
   "source": [
    "import math\n",
    "from math import sqrt, sin, cos, atan2, radians\n",
    "def haversine(coord1:object, coord2:object):\n",
    "    \n",
    "    lon1, lat1 = coord1\n",
    "    lon2, lat2 = coord2\n",
    "    phi_1 = math.radians(lat1)\n",
    "    phi_2 = math.radians(lat2)\n",
    "    delta_phi = math.radians(lat2 - lat1)\n",
    "    delta_lambda = math.radians(lon2 - lon1)\n",
    "    \n",
    "    a = math.sin(delta_phi / 2.0) ** 2 + math.cos(phi_1) * math.cos(phi_2) * math.sin(delta_lambda / 2.0) ** 2\n",
    "    c = 2 * math.atan2(math.sqrt(a), math.sqrt(1 - a))\n",
    "    R = 6371\n",
    "    return R * c\n",
    "\n",
    "coord1 = 0.96524,52.2213\n",
    "coord2 = -0.10116,51.4567\n",
    "print(haversine(coord1,coord2))"
   ]
  },
  {
   "cell_type": "markdown",
   "id": "6cae244f-0630-420d-8afd-f425d49562f7",
   "metadata": {},
   "source": [
    "# **Pandas and NumPy**\n",
    "## **Question 1**\n",
    "### Using Pandas we can read the portland_park_trees.csv file. Subsets were created that identified the trees that are of the Quercus and Acer genus. The subsets were combined to create a subset that identified trees that belonged to the Quercus or Acer Genus. The len() function was then used to identify the number of rows and therefore trees that belonged to Quercus or Acer. This gave the answer 5675."
   ]
  },
  {
   "cell_type": "code",
   "execution_count": 52,
   "id": "5e97a232-4972-4eb5-8713-215b94ca992d",
   "metadata": {},
   "outputs": [
    {
     "name": "stdout",
     "output_type": "stream",
     "text": [
      "5675\n"
     ]
    }
   ],
   "source": [
    "import pandas as pd\n",
    "\n",
    "trees_df = pd.read_csv(\"data/portland_park_trees.csv\", sep=\",\", header=0, encoding=\"ISO-8859-1\")\n",
    "\n",
    "Quercus_only = trees_df[trees_df[\"Genus\"]==\"Quercus\"]\n",
    "Acer_only = trees_df[trees_df[\"Genus\"]==\"Acer\"]\n",
    "Quercus_and_Acer = Quercus_only + Acer_only\n",
    "\n",
    "print(len(Quercus_and_Acer))"
   ]
  },
  {
   "cell_type": "markdown",
   "id": "95437a40-abcd-4541-9d81-70e716cca8da",
   "metadata": {},
   "source": [
    "## **Question 2**\n",
    "### Using the same data from the previous question subsets were created for trees that belonged to the Quercus genus and have a DBH larger than 50 inches. This process was repeated for the Acer genus and then the two subsets were combined. This gave the answer that there are 124 trees of the Quercus or Acer genus that have a DBH larger than 50 inches."
   ]
  },
  {
   "cell_type": "code",
   "execution_count": 61,
   "id": "c4cd1c83-ae07-4ca0-b370-db2233656529",
   "metadata": {},
   "outputs": [
    {
     "name": "stdout",
     "output_type": "stream",
     "text": [
      "124\n"
     ]
    }
   ],
   "source": [
    "large_Quercus = trees_df[(trees_df[\"Genus\"]==\"Quercus\") & (trees_df[\"DBH\"]>50)]\n",
    "large_Acer = trees_df[(trees_df[\"Genus\"]==\"Acer\") & (trees_df[\"DBH\"]>50)]\n",
    "\n",
    "large_Quercus_and_Acer = large_Quercus + large_Acer\n",
    "\n",
    "print(len(large_Quercus_and_Acer))"
   ]
  },
  {
   "cell_type": "markdown",
   "id": "645adaec-a4de-404e-bf34-4797cf97d307",
   "metadata": {},
   "source": [
    "## **Question 3**"
   ]
  },
  {
   "cell_type": "code",
   "execution_count": 67,
   "id": "42dcd7e8-133c-48f8-83e3-b9bc5d7459eb",
   "metadata": {},
   "outputs": [
    {
     "name": "stdout",
     "output_type": "stream",
     "text": [
      "784\n",
      "23.56823839157492\n",
      "18.419085331846066\n",
      "11.033609693877551\n"
     ]
    }
   ],
   "source": [
    "Fraxinus_only = trees_df[trees_df[\"Genus\"]==\"Fraxinus\"]\n",
    "print(len(Fraxinus_only))\n",
    "\n",
    "Quercus_Mean = Quercus_only[\"DBH\"].mean()\n",
    "Acer_Mean = Acer_only[\"DBH\"].mean()\n",
    "Fraxinus_Mean = Fraxinus_only[\"DBH\"].mean()\n",
    "\n",
    "print(Quercus_Mean)\n",
    "print(Acer_Mean)\n",
    "print(Fraxinus_Mean)"
   ]
  },
  {
   "cell_type": "markdown",
   "id": "061a8272-c292-4b1c-84e2-9c801b71d137",
   "metadata": {},
   "source": [
    "## **Question 4**"
   ]
  },
  {
   "cell_type": "code",
   "execution_count": null,
   "id": "f5ef2a57-ccd8-4d24-b7f7-1b27329ccf33",
   "metadata": {},
   "outputs": [],
   "source": []
  }
 ],
 "metadata": {
  "kernelspec": {
   "display_name": "Python 3 (ipykernel)",
   "language": "python",
   "name": "python3"
  },
  "language_info": {
   "codemirror_mode": {
    "name": "ipython",
    "version": 3
   },
   "file_extension": ".py",
   "mimetype": "text/x-python",
   "name": "python",
   "nbconvert_exporter": "python",
   "pygments_lexer": "ipython3",
   "version": "3.10.9"
  }
 },
 "nbformat": 4,
 "nbformat_minor": 5
}
